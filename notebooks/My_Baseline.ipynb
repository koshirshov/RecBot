{
 "cells": [
  {
   "cell_type": "code",
   "execution_count": 1,
   "id": "0b3b12d9",
   "metadata": {},
   "outputs": [],
   "source": [
    "import sys\n",
    "sys.path.append('/home/koshirshov/koshirshov/RecBot')\n",
    "import config\n",
    "from pandas_utils import load_data\n",
    "from models import PopularRecommender\n",
    "from recommendation_utils import create_recommendations_from_one_model, create_submission_file\n",
    "from metrics import compute_metrics"
   ]
  },
  {
   "cell_type": "code",
   "execution_count": 2,
   "id": "af33b2fa",
   "metadata": {},
   "outputs": [],
   "source": [
    "path = config.proceed_data_path\n",
    "users_df = load_data(path + 'users_processed.pkl',)\n",
    "items_df = load_data(path + 'items_processed.pkl',)\n",
    "train_interactions = load_data(path + 'train_interactions.pkl',)\n",
    "test_interactions = load_data(path + 'test_interactions.pkl',)\n",
    "sample_submission = load_data(path + 'sample_submission_processed.pkl',)"
   ]
  },
  {
   "cell_type": "code",
   "execution_count": null,
   "id": "602f3d92",
   "metadata": {},
   "outputs": [],
   "source": []
  },
  {
   "cell_type": "code",
   "execution_count": 3,
   "id": "50337dc1",
   "metadata": {},
   "outputs": [
    {
     "name": "stdout",
     "output_type": "stream",
     "text": [
      "{'Precision@1': 0.07489781772115592, 'Recall@1': 0.04826541257304038, 'Precision@3': 0.07616463895594809, 'Recall@3': 0.1375204993719853, 'Precision@10': 0.03765387097545237, 'Recall@10': 0.2108414786587126, 'MAP@10': 0.10311451737903853, 'Novelty@10': 3.435862548188481}\n"
     ]
    }
   ],
   "source": [
    "#popular\n",
    "#pop_model = PopularRecommender(days=30)\n",
    "#pop_model.fit(train_interactions)\n",
    "pop_model = load_data(config.models_data_path + 'model_popular.pkl')\n",
    "df_recommendations = create_recommendations_from_one_model(pop_model, test_interactions['user_id'].unique())\n",
    "metrics = compute_metrics(train_interactions, test_interactions, df_recommendations)\n",
    "print(metrics)\n",
    "create_submission_file(df_recommendations, )"
   ]
  },
  {
   "cell_type": "code",
   "execution_count": 7,
   "id": "d6b94a54",
   "metadata": {},
   "outputs": [],
   "source": []
  },
  {
   "cell_type": "code",
   "execution_count": null,
   "id": "2e4021e1",
   "metadata": {},
   "outputs": [],
   "source": []
  }
 ],
 "metadata": {
  "kernelspec": {
   "display_name": "Python 3 (ipykernel)",
   "language": "python",
   "name": "python3"
  },
  "language_info": {
   "codemirror_mode": {
    "name": "ipython",
    "version": 3
   },
   "file_extension": ".py",
   "mimetype": "text/x-python",
   "name": "python",
   "nbconvert_exporter": "python",
   "pygments_lexer": "ipython3",
   "version": "3.8.10"
  }
 },
 "nbformat": 4,
 "nbformat_minor": 5
}
