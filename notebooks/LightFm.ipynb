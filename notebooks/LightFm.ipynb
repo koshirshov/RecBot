{
 "cells": [
  {
   "cell_type": "code",
   "execution_count": 1,
   "id": "0b3b12d9",
   "metadata": {
    "ExecuteTime": {
     "end_time": "2022-07-04T00:20:22.386917Z",
     "start_time": "2022-07-04T00:20:21.955283Z"
    }
   },
   "outputs": [],
   "source": [
    "import sys\n",
    "sys.path.append('/home/koshirshov/koshirshov/RecBot')\n",
    "import config\n",
    "from pandas_utils import load_data\n",
    "from models import PopularRecommender, LightFmModel\n",
    "from recommendation_utils import create_recommendations_from_one_model, create_submission_file\n",
    "from metrics import compute_metrics\n",
    "import pandas as pd"
   ]
  },
  {
   "cell_type": "code",
   "execution_count": 2,
   "id": "af33b2fa",
   "metadata": {
    "ExecuteTime": {
     "end_time": "2022-07-04T00:20:23.702147Z",
     "start_time": "2022-07-04T00:20:22.505483Z"
    }
   },
   "outputs": [],
   "source": [
    "path = config.proceed_data_path\n",
    "users_df = load_data(path + 'users_processed.pkl',)\n",
    "items_df = load_data(path + 'items_processed.pkl',)\n",
    "train_interactions = load_data(path + 'train_interactions.pkl',)\n",
    "test_interactions = load_data(path + 'test_interactions.pkl',)\n",
    "sample_submission = load_data(path + 'sample_submission_processed.pkl',)"
   ]
  },
  {
   "cell_type": "code",
   "execution_count": 3,
   "id": "50337dc1",
   "metadata": {
    "ExecuteTime": {
     "end_time": "2022-07-04T00:20:53.205146Z",
     "start_time": "2022-07-04T00:20:24.459042Z"
    }
   },
   "outputs": [
    {
     "name": "stdout",
     "output_type": "stream",
     "text": [
      "{'Precision@1': 0.07489781772115592, 'Recall@1': 0.04826541257304038, 'Precision@3': 0.07616463895594809, 'Recall@3': 0.1375204993719853, 'Precision@10': 0.03765387097545237, 'Recall@10': 0.2108414786587126, 'MAP@10': 0.10311451737903853, 'Novelty@10': 3.435862548188481}\n"
     ]
    }
   ],
   "source": [
    "#popular\n",
    "pop_model = PopularRecommender(days=30)\n",
    "pop_model.fit(train_interactions)\n",
    "df_recommendations = create_recommendations_from_one_model(pop_model, test_interactions['user_id'].unique())\n",
    "metrics = compute_metrics(train_interactions, test_interactions, df_recommendations)\n",
    "print(metrics)"
   ]
  },
  {
   "cell_type": "code",
   "execution_count": 4,
   "id": "6ef04a5e",
   "metadata": {
    "ExecuteTime": {
     "end_time": "2022-07-04T00:24:02.583129Z",
     "start_time": "2022-07-04T00:20:53.207563Z"
    }
   },
   "outputs": [
    {
     "name": "stderr",
     "output_type": "stream",
     "text": [
      "fit light_fm model, epochs:: 100%|████████████████████████████████████████████████████████████████████████████████████████████████████| 30/30 [01:41<00:00,  3.37s/it]\n",
      "predict from light_fm model, users:: 100%|██████████████████████████████████████████████████████████████████████████████████████████████| 7/7 [00:47<00:00,  6.75s/it]\n"
     ]
    },
    {
     "name": "stdout",
     "output_type": "stream",
     "text": [
      "{'Precision@1': 0.08078375600544972, 'Recall@1': 0.05083565033208718, 'Precision@3': 0.07590768936587232, 'Recall@3': 0.1362939349624927, 'Precision@10': 0.03927623873604704, 'Recall@10': 0.21595715683431518, 'MAP@10': 0.10531653632656372, 'Novelty@10': 3.491949849728626}\n"
     ]
    }
   ],
   "source": [
    "#popular + light_fm\n",
    "light_fm_model = LightFmModel()\n",
    "light_fm_model.prepare_csr_matrix(train_interactions)\n",
    "\n",
    "users_with_interactions_in_train = (set(train_interactions['user_id'])&set(test_interactions['user_id'])) - light_fm_model.users_not_in_matrix\n",
    "users_without_interactions_in_train = (set(test_interactions['user_id']) - users_with_interactions_in_train).union(light_fm_model.users_not_in_matrix)\n",
    "users_with_interactions_in_train = [user for user in users_with_interactions_in_train]\n",
    "users_without_interactions_in_train = [user for user in users_without_interactions_in_train]\n",
    "\n",
    "light_fm_model.fit(30)\n",
    "df_recommendations_lfm = create_recommendations_from_one_model(light_fm_model, users_with_interactions_in_train)\n",
    "df_recommendations_popular = create_recommendations_from_one_model(pop_model, users_without_interactions_in_train)\n",
    "df_recommendations = pd.concat([df_recommendations_lfm, df_recommendations_popular], axis = 0)\n",
    "metrics = compute_metrics(train_interactions, test_interactions, df_recommendations)\n",
    "print(metrics)"
   ]
  },
  {
   "cell_type": "code",
   "execution_count": 5,
   "id": "8ab92a63",
   "metadata": {},
   "outputs": [
    {
     "data": {
      "text/plain": [
       "{'Precision@1': 0.08462604871286182,\n",
       " 'Recall@1': 0.05317130005803583,\n",
       " 'Precision@3': 0.07436200811084288,\n",
       " 'Recall@3': 0.13359372126257665,\n",
       " 'Precision@10': 0.03933181155436575,\n",
       " 'Recall@10': 0.21642830347395992,\n",
       " 'MAP@10': 0.10625493586122989,\n",
       " 'Novelty@10': 3.67470572866023}"
      ]
     },
     "execution_count": 5,
     "metadata": {},
     "output_type": "execute_result"
    }
   ],
   "source": [
    "{'Precision@1': 0.08462604871286182, 'Recall@1': 0.05317130005803583, 'Precision@3': 0.07436200811084288, 'Recall@3': 0.13359372126257665, 'Precision@10': 0.03933181155436575, 'Recall@10': 0.21642830347395992, 'MAP@10': 0.10625493586122989, 'Novelty@10': 3.67470572866023}"
   ]
  }
 ],
 "metadata": {
  "kernelspec": {
   "display_name": "Python 3 (ipykernel)",
   "language": "python",
   "name": "python3"
  },
  "language_info": {
   "codemirror_mode": {
    "name": "ipython",
    "version": 3
   },
   "file_extension": ".py",
   "mimetype": "text/x-python",
   "name": "python",
   "nbconvert_exporter": "python",
   "pygments_lexer": "ipython3",
   "version": "3.8.10"
  }
 },
 "nbformat": 4,
 "nbformat_minor": 5
}
